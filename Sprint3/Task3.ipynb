{
 "cells": [
  {
   "cell_type": "markdown",
   "metadata": {},
   "source": [
    "<h1 style=\"color:DodgerBlue\">Индивидальный проект</h1>"
   ]
  },
  {
   "cell_type": "markdown",
   "metadata": {},
   "source": [
    "<h2 style=\"color:DodgerBlue\">Название проекта:</h2>\n",
    "\n",
    "----\n",
    "\n",
    "### Вариант задания № 2\n"
   ]
  },
  {
   "cell_type": "markdown",
   "metadata": {},
   "source": [
    "<h2 style=\"color:DodgerBlue\">Описание проекта:</h2>\n",
    "\n",
    "----\n",
    "\n",
    "<h3>Описание задачи:</h3>\n",
    "Создать базовый класс Student в C#, который будет представлять информацию о\n",
    "студентах. На основе этого класса разработать 2-3 производных класса,\n",
    "демонстрирующих принципы наследования и полиморфизма. В каждом из классов\n",
    "должны быть реализованы новые атрибуты и методы, а также переопределены\n",
    "некоторые методы базового класса для демонстрации полиморфизма.\n",
    "<h3>Требования к базовому классу Student:</h3>\n",
    "<ul>\n",
    "<li> Атрибуты: Имя (Name), Возраст (Age), Курс (Course).</li>\n",
    "<li> Методы:\n",
    "<ul>\n",
    "<li> GetInfo(): метод для получения информации о студенте в виде строки.</li>\n",
    "<li> Study(): метод для вывода сообщения о том, что студент учится.</li>\n",
    "<li> TakeExam(): метод для вывода сообщения о сдаче экзамена.</li>\n",
    "</ul>\n",
    "</li>\n",
    "</ul>\n",
    "<ol>\n",
    "<li> Студент бакалавриата (BachelorStudent): Должен содержать дополнительные\n",
    "атрибуты, такие как Специальность (Specialty). Метод Study() должен быть\n",
    "переопределен для добавления информации о специальности при изучении\n",
    "предмета. </li>\n",
    "<li> Студент магистратуры (MasterStudent): Должен содержать дополнительные\n",
    "атрибуты, такие как Научный руководитель (ScientificAdvisor).\n",
    "Метод TakeExam() должен быть переопределен для добавления\n",
    "информации о научном руководителе при сдаче экзамена. </li>\n",
    "<li>А спирант (PhDStudent) (если требуется третий класс): Должен содержать\n",
    "дополнительные атрибуты, такие как Тема диссертации (DissertationTopic).\n",
    "Метод Study() должен быть переопределен для добавления информации о\n",
    "теме диссертации при изучении предмета. </li>\n",
    "</ol>\n",
    "\n",
    "#### Дополнительное задание\n",
    "Добавьте к сущестующим классам (базовыму и производным 3-4 атрибута и метода) и реализуйте полиморфизм с перекрытием и прегегрузкой методов, а также generic классы"
   ]
  },
  {
   "cell_type": "markdown",
   "metadata": {},
   "source": [
    "<h2 style=\"color:DodgerBlue\">Реализация:</h2>\n",
    "\n",
    "----"
   ]
  },
  {
   "cell_type": "code",
   "execution_count": 3,
   "metadata": {
    "dotnet_interactive": {
     "language": "csharp"
    },
    "polyglot_notebook": {
     "kernelName": "csharp"
    }
   },
   "outputs": [
    {
     "name": "stdout",
     "output_type": "stream",
     "text": [
      "Name: Adam; Age: 20; Course: 2; Specialty: PPP\n",
      "Name: Leo; Age: 25; Course: 1\n",
      "Name: Mien; Age: 26; Course: 2\n"
     ]
    }
   ],
   "source": [
    "interface ITask\n",
    "{\n",
    "    public void SubmitTask();\n",
    "}\n",
    "class Student\n",
    "{\n",
    "    private static int StudentCounter = 0;\n",
    "    public string Name { get; set; }\n",
    "    public int Age { get ; set; }\n",
    "    public int Course { get; set; }\n",
    "    public string Key { get { return $\"{Name}:{Age}:{Course}:{StudentCounter.ToString()}\"; }}\n",
    "    public Student()\n",
    "    {\n",
    "        this.Name = \"Steve\";\n",
    "        this.Age = 20;\n",
    "        this.Course = 3;\n",
    "        StudentCounter++;\n",
    "    }\n",
    "    public Student(string Name, int Age, int Course)\n",
    "    {\n",
    "        this.Name = Name;\n",
    "        this.Age = Age;\n",
    "        this.Course = Course;\n",
    "        StudentCounter++;\n",
    "    }\n",
    "    public virtual string GetInfo() \n",
    "    {\n",
    "        return $\"Name: {Name}; Age: {Age}; Course: {Course}\";\n",
    "    }\n",
    "    public virtual void Study()\n",
    "    {\n",
    "        Console.WriteLine(\"Student is studying\");\n",
    "    }\n",
    "    // Перегрузка\n",
    "    public virtual void Study(string mode)\n",
    "    {\n",
    "        Console.WriteLine($\"Student has a {mode} time studying\");\n",
    "    }\n",
    "    public virtual void TakeExam()\n",
    "    {\n",
    "        Console.WriteLine(\"Student is taking an exam\");\n",
    "    }\n",
    "}\n",
    "class BachelorStudent : Student, ITask\n",
    "{\n",
    "    public string Specialty { get; set; }\n",
    "    public BachelorStudent() : base()\n",
    "    {\n",
    "        this.Specialty = \"Engineering\";\n",
    "    }\n",
    "    public BachelorStudent(string name, int age, int course) : base(name, age, course) {}\n",
    "    public override string GetInfo() \n",
    "    {\n",
    "        return $\"Name: {Name}; Age: {Age}; Course: {Course}; Specialty: {Specialty}\";\n",
    "    }\n",
    "    public override void Study()\n",
    "    {\n",
    "        Console.WriteLine($\"Student is studying {Specialty}\");\n",
    "    }\n",
    "    public void SubmitTask()\n",
    "    {\n",
    "        Console.WriteLine($\"{Name} sent the task.\");\n",
    "    }\n",
    "}\n",
    "class MasterStudent : Student\n",
    "{\n",
    "    public PhDStudent ScientificAdvisor { get; set;}\n",
    "    public MasterStudent(string name, int age, int course) : base(name, age, course) {}\n",
    "    public MasterStudent()\n",
    "    {\n",
    "        // logic\n",
    "    }\n",
    "    public override void TakeExam()\n",
    "    {\n",
    "        Console.WriteLine($\"Student is taking an exam, ScientificAdvisor: {ScientificAdvisor}\");\n",
    "    }\n",
    "}\n",
    "class PhDStudent : Student\n",
    "{\n",
    "    public string DissertationTopic { get; set; }\n",
    "    public PhDStudent(string name, int age, int course) : base(name, age, course) {}\n",
    "    public PhDStudent()\n",
    "    {\n",
    "        this.DissertationTopic = \"Breakup of Yugoslavia\";\n",
    "    }\n",
    "    public override void Study()\n",
    "    {\n",
    "        Console.WriteLine($\"Student is studying, DissertationTopic: {DissertationTopic}\");\n",
    "    }\n",
    "}\n",
    "class ResearchPhDStudent : PhDStudent\n",
    "{\n",
    "    public string ResearchTopic { get; set; }\n",
    "    public ResearchPhDStudent(string name, int age, int course) : base(name, age, course) {}\n",
    "    public ResearchPhDStudent()\n",
    "    {\n",
    "        this.ResearchTopic = \"History of DRC\";\n",
    "    }\n",
    "}\n",
    "class StudentGroup<T> where T: Student\n",
    "{\n",
    "    private List<T> grp = new List<T>();\n",
    "    public void AddStudent(T student)\n",
    "    {\n",
    "        grp.Add(student);\n",
    "    }\n",
    "    public void GroupInfo()\n",
    "    {\n",
    "        foreach (var std in grp)\n",
    "        {\n",
    "            Console.WriteLine(std.GetInfo());\n",
    "        }\n",
    "    }\n",
    "}\n",
    "BachelorStudent a = new BachelorStudent(\"Adam\", 20, 2);\n",
    "a.Specialty = \"PPP\";\n",
    "MasterStudent b = new MasterStudent(\"Pete\", 25, 1);\n",
    "PhDStudent c = new PhDStudent(\"Leo\", 25, 1);\n",
    "ResearchPhDStudent d = new ResearchPhDStudent(\"Mien\", 26, 2);\n",
    "var group = new StudentGroup<Student>();\n",
    "group.AddStudent(a);\n",
    "group.AddStudent(c);\n",
    "group.AddStudent(d);\n",
    "group.GroupInfo();"
   ]
  }
 ],
 "metadata": {
  "kernelspec": {
   "display_name": ".NET (C#)",
   "language": "C#",
   "name": ".net-csharp"
  },
  "polyglot_notebook": {
   "kernelInfo": {
    "defaultKernelName": "csharp",
    "items": [
     {
      "aliases": [],
      "languageName": "csharp",
      "name": "csharp"
     }
    ]
   }
  }
 },
 "nbformat": 4,
 "nbformat_minor": 2
}
