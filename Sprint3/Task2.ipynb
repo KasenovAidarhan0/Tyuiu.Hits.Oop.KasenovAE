{
 "cells": [
  {
   "cell_type": "markdown",
   "metadata": {},
   "source": [
    "<h1 style=\"color:DodgerBlue\">Generic классы в C#</h1>\n"
   ]
  },
  {
   "cell_type": "markdown",
   "metadata": {},
   "source": [
    "Генерические классы в C# представляют собой шаблон класса, который может работать с различными типами данных без потери производительности. Они позволяют создавать компоненты, которые могут быть безопасно повторно использованы в различных контекстах, обеспечивая при этом строгую типизацию и избегая необходимости приведения типов.\n",
    "\n",
    "#### Основные преимущества генерических классов:\n",
    "\n",
    "1. **Безопасность типов**: Генерические классы обеспечивают проверку типов на этапе компиляции, что помогает предотвратить ошибки во время выполнения.\n",
    "2. **Универсальность**: Генерические классы могут работать с различными типами данных, делая их очень гибкими и универсальными.\n",
    "3. **Производительность**: Генерические классы не приводят к значительной потере производительности, поскольку информация о типе хранится вместе с объектом.\n",
    "\n",
    "#### Пример с классами `Vehicle`, `Car` и `Motorcycle`\n",
    "\n",
    "Давайте рассмотрим пример генерического класса `VehicleCollection<T>`, который может хранить коллекцию объектов типа `T`, где `T` может быть любой строкой, например, `Vehicle`, `Car` или `Motorcycle`.\n",
    "\n",
    "```csharp\n",
    "using System;\n",
    "using System.Collections.Generic;\n",
    "\n",
    "// Определение базового класса Vehicle\n",
    "public class Vehicle\n",
    "{\n",
    "    public virtual void Drive()\n",
    "    {\n",
    "        Console.WriteLine(\"Транспортное средство находится в движении.\");\n",
    "    }\n",
    "}\n",
    "\n",
    "// Определение производного класса Car\n",
    "public class Car : Vehicle\n",
    "{\n",
    "    public override void Drive()\n",
    "    {\n",
    "        Console.WriteLine(\"Машина едет.\");\n",
    "    }\n",
    "}\n",
    "\n",
    "// Определение производного класса Motorcycle\n",
    "public class Motorcycle : Vehicle\n",
    "{\n",
    "    public override void Drive()\n",
    "    {\n",
    "        Console.WriteLine(\"Мотоцикл едет.\");\n",
    "    }\n",
    "}\n",
    "\n",
    "// Определение генерического класса VehicleCollection<T>\n",
    "public class VehicleCollection<T> where T : Vehicle\n",
    "{\n",
    "    private List<T> _vehicles = new List<T>();\n",
    "\n",
    "    public void Add(T vehicle)\n",
    "    {\n",
    "        _vehicles.Add(vehicle);\n",
    "    }\n",
    "\n",
    "    public void Remove(T vehicle)\n",
    "    {\n",
    "        _vehicles.Remove(vehicle);\n",
    "    }\n",
    "\n",
    "    public void DisplayVehicles()\n",
    "    {\n",
    "        foreach (var vehicle in _vehicles)\n",
    "        {\n",
    "            vehicle.Drive(); // Вызов метода Drive() для каждого транспортного средства\n",
    "        }\n",
    "    }\n",
    "}\n",
    "\n",
    "\n",
    "VehicleCollection<Car> cars = new VehicleCollection<Car>();\n",
    "cars.Add(new Car());\n",
    "cars.Add(new Motorcycle()); // Это возможно благодаря ограничению \"where T : Vehicle\"\n",
    "\n",
    "cars.DisplayVehicles(); // Выводит: \"Машина едет.\" и \"Мотоцикл едет.\"\n",
    "\n",
    "\n",
    "```\n",
    "\n",
    "В этом примере `VehicleCollection<T>` является генерическим классом, который может хранить коллекцию объектов типа `T`, где `T` должен быть подклассом `Vehicle`. Это позволяет создавать коллекции автомобилей, мотоциклов и других видов транспортных средств, обеспечивая при этом строгую типизацию и безопасность типов.\n",
    "\n",
    "### Заключение\n",
    "\n",
    "Генерические классы в C# предоставляют мощный и гибкий способ создания компонентов, которые могут работать с различными типами данных, обеспечивая при этом строгую типизацию и безопасность типов. Это делает их идеальным выбором для многих задач, требующих повторного использования кода с высокой степенью абстракции."
   ]
  },
  {
   "cell_type": "markdown",
   "metadata": {},
   "source": [
    "<h4 style=\"color:DodgerBlue\">Для проверки напишите пример кода на основе классов Vehicle, Car и Motorcycle ниже в блоке:</h4>\n",
    "\n",
    "----"
   ]
  },
  {
   "cell_type": "code",
   "execution_count": null,
   "metadata": {
    "dotnet_interactive": {
     "language": "csharp"
    },
    "polyglot_notebook": {
     "kernelName": "csharp"
    }
   },
   "outputs": [],
   "source": []
  },
  {
   "cell_type": "markdown",
   "metadata": {},
   "source": [
    "<h4 style=\"color:Red\">Задание:</h4>\n",
    "\n",
    "----\n",
    "\n",
    "Ниже в блоке по примеру создайте базовый класс Animal и производные классы (3-4 например Dog, Cat, Bird и так далее) реализуйте структуру и объявление класса, включая свойства, геттеры и сеттеры, а также с пременением Generic классов."
   ]
  },
  {
   "cell_type": "code",
   "execution_count": 2,
   "metadata": {
    "dotnet_interactive": {
     "language": "csharp"
    },
    "polyglot_notebook": {
     "kernelName": "csharp"
    }
   },
   "outputs": [
    {
     "name": "stdout",
     "output_type": "stream",
     "text": [
      "Buddy is 3 years old.\n",
      "Buddy says: Woof! Woof!\n",
      "Whiskers is 2 years old.\n",
      "Whiskers says: Meow! Meow!\n",
      "Tweety is 1 years old.\n",
      "Tweety says: Tweet! Tweet!\n"
     ]
    }
   ],
   "source": [
    "public abstract class Animal\n",
    "{\n",
    "    public string Name { get; set; }\n",
    "    public int Age { get; set; }\n",
    "\n",
    "    public Animal(string name, int age)\n",
    "    {\n",
    "        Name = name;\n",
    "        Age = age;\n",
    "    }\n",
    "\n",
    "    public abstract void MakeSound();\n",
    "\n",
    "    public override string ToString()\n",
    "    {\n",
    "        return $\"{Name} is {Age} years old.\";\n",
    "    }\n",
    "}\n",
    "public class Dog : Animal\n",
    "{\n",
    "    public Dog(string name, int age) : base(name, age) { }\n",
    "\n",
    "    public override void MakeSound()\n",
    "    {\n",
    "        Console.WriteLine($\"{Name} says: Woof! Woof!\");\n",
    "    }\n",
    "}\n",
    "public class Cat : Animal\n",
    "{\n",
    "    public Cat(string name, int age) : base(name, age) { }\n",
    "\n",
    "    public override void MakeSound()\n",
    "    {\n",
    "        Console.WriteLine($\"{Name} says: Meow! Meow!\");\n",
    "    }\n",
    "}\n",
    "public class Bird : Animal\n",
    "{\n",
    "    public Bird(string name, int age) : base(name, age) { }\n",
    "\n",
    "    public override void MakeSound()\n",
    "    {\n",
    "        Console.WriteLine($\"{Name} says: Tweet! Tweet!\");\n",
    "    }\n",
    "}\n",
    "public class AnimalShelter<T> where T : Animal\n",
    "{\n",
    "    private List<T> animals = new List<T>();\n",
    "\n",
    "    public void AddAnimal(T animal)\n",
    "    {\n",
    "        animals.Add(animal);\n",
    "    }\n",
    "\n",
    "    public void ShowAnimals()\n",
    "    {\n",
    "        foreach (var animal in animals)\n",
    "        {\n",
    "            Console.WriteLine(animal);\n",
    "            animal.MakeSound();\n",
    "        }\n",
    "    }\n",
    "}\n",
    "var shelter = new AnimalShelter<Animal>();\n",
    "shelter.AddAnimal(new Dog(\"Buddy\", 3));\n",
    "shelter.AddAnimal(new Cat(\"Whiskers\", 2));\n",
    "shelter.AddAnimal(new Bird(\"Tweety\", 1));\n",
    "shelter.ShowAnimals();\n"
   ]
  }
 ],
 "metadata": {
  "kernelspec": {
   "display_name": ".NET (C#)",
   "language": "C#",
   "name": ".net-csharp"
  },
  "polyglot_notebook": {
   "kernelInfo": {
    "defaultKernelName": "csharp",
    "items": [
     {
      "aliases": [],
      "languageName": "csharp",
      "name": "csharp"
     }
    ]
   }
  }
 },
 "nbformat": 4,
 "nbformat_minor": 2
}
