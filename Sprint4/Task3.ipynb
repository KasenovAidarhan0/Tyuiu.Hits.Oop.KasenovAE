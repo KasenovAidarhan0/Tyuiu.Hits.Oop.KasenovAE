{
 "cells": [
  {
   "cell_type": "markdown",
   "metadata": {},
   "source": [
    "<h1 style=\"color:DodgerBlue\">Индивидальный проект</h1>"
   ]
  },
  {
   "cell_type": "markdown",
   "metadata": {},
   "source": [
    "<h2 style=\"color:DodgerBlue\">Название проекта:</h2>\n",
    "\n",
    "----\n",
    "\n",
    "### Вариант задания \n"
   ]
  },
  {
   "cell_type": "markdown",
   "metadata": {},
   "source": [
    "<h2 style=\"color:DodgerBlue\">Описание проекта:</h2>\n",
    "\n",
    "----\n",
    "\n",
    "[ваш текст]\n",
    "\n",
    "#### Дополнительное задание\n",
    "Добавьте к сущестующим классам (базовыму и производным 3-4 атрибута и метода) создайте явную реализации интерфейса и управление зависимостями \n"
   ]
  },
  {
   "cell_type": "markdown",
   "metadata": {},
   "source": [
    "<h2 style=\"color:DodgerBlue\">Реализация:</h2>\n",
    "\n",
    "----"
   ]
  },
  {
   "cell_type": "code",
   "execution_count": 4,
   "metadata": {
    "dotnet_interactive": {
     "language": "csharp"
    },
    "polyglot_notebook": {
     "kernelName": "csharp"
    }
   },
   "outputs": [
    {
     "name": "stdout",
     "output_type": "stream",
     "text": [
      "Pete masked\n",
      "Leo checked the task\n"
     ]
    }
   ],
   "source": [
    "interface ITask\n",
    "{\n",
    "    public void SubmitTask();\n",
    "}\n",
    "public interface IHalloween\n",
    "{\n",
    "    void TakeMask();\n",
    "}\n",
    "class Student\n",
    "{\n",
    "    private static int StudentCounter = 0;\n",
    "    public string Name { get; set; }\n",
    "    public int Age { get ; set; }\n",
    "    public int Course { get; set; }\n",
    "    public string Key { get { return $\"{Name}:{Age}:{Course}:{StudentCounter.ToString()}\"; }}\n",
    "    public Student()\n",
    "    {\n",
    "        this.Name = \"Steve\";\n",
    "        this.Age = 20;\n",
    "        this.Course = 3;\n",
    "        StudentCounter++;\n",
    "    }\n",
    "    public Student(string Name, int Age, int Course)\n",
    "    {\n",
    "        this.Name = Name;\n",
    "        this.Age = Age;\n",
    "        this.Course = Course;\n",
    "        StudentCounter++;\n",
    "    }\n",
    "    public virtual string GetInfo() \n",
    "    {\n",
    "        return $\"Name: {Name}; Age: {Age}; Course: {Course}\";\n",
    "    }\n",
    "    public virtual void Study()\n",
    "    {\n",
    "        Console.WriteLine(\"Student is studying\");\n",
    "    }\n",
    "    // Перегрузка\n",
    "    public virtual void Study(string mode)\n",
    "    {\n",
    "        Console.WriteLine($\"Student has a {mode} time studying\");\n",
    "    }\n",
    "    public virtual void TakeExam()\n",
    "    {\n",
    "        Console.WriteLine(\"Student is taking an exam\");\n",
    "    }\n",
    "}\n",
    "class BachelorStudent : Student, ITask\n",
    "{\n",
    "    public string Specialty { get; set; }\n",
    "    public BachelorStudent() : base()\n",
    "    {\n",
    "        this.Specialty = \"Engineering\";\n",
    "    }\n",
    "    public BachelorStudent(string name, int age, int course) : base(name, age, course) {}\n",
    "    public override string GetInfo() \n",
    "    {\n",
    "        return $\"Name: {Name}; Age: {Age}; Course: {Course}; Specialty: {Specialty}\";\n",
    "    }\n",
    "    public override void Study()\n",
    "    {\n",
    "        Console.WriteLine($\"Student is studying {Specialty}\");\n",
    "    }\n",
    "    public void SubmitTask()\n",
    "    {\n",
    "        Console.WriteLine($\"{Name} sent the task.\");\n",
    "    }\n",
    "}\n",
    "class MasterStudent : Student, IHalloween\n",
    "{\n",
    "    public PhDStudent ScientificAdvisor { get; set;}\n",
    "    public MasterStudent(string name, int age, int course) : base(name, age, course) {}\n",
    "    public MasterStudent()\n",
    "    {\n",
    "        // logic\n",
    "    }\n",
    "    public override void TakeExam()\n",
    "    {\n",
    "        Console.WriteLine($\"Student is taking an exam, ScientificAdvisor: {ScientificAdvisor}\");\n",
    "    }\n",
    "    // Явная реализация интерфейса\n",
    "    void IHalloween.TakeMask()\n",
    "    {\n",
    "        Console.WriteLine($\"{Name} masked\");\n",
    "    }\n",
    "}\n",
    "class PhDStudent : Student\n",
    "{\n",
    "    public string DissertationTopic { get; set; }\n",
    "    public void TakeTask(ITask task)\n",
    "    {\n",
    "        Console.WriteLine($\"{Name} checked the task\");\n",
    "    }\n",
    "    public PhDStudent(string name, int age, int course) : base(name, age, course) {}\n",
    "    public PhDStudent()\n",
    "    {\n",
    "        this.DissertationTopic = \"Breakup of Yugoslavia\";\n",
    "    }\n",
    "    public override void Study()\n",
    "    {\n",
    "        Console.WriteLine($\"Student is studying, DissertationTopic: {DissertationTopic}\");\n",
    "    }\n",
    "}\n",
    "class ResearchPhDStudent : PhDStudent\n",
    "{\n",
    "    public string ResearchTopic { get; set; }\n",
    "    public ResearchPhDStudent(string name, int age, int course) : base(name, age, course) {}\n",
    "    public ResearchPhDStudent()\n",
    "    {\n",
    "        this.ResearchTopic = \"History of DRC\";\n",
    "    }\n",
    "}\n",
    "class StudentGroup<T> where T: Student\n",
    "{\n",
    "    private List<T> grp = new List<T>();\n",
    "    public void AddStudent(T student)\n",
    "    {\n",
    "        grp.Add(student);\n",
    "    }\n",
    "    public void GroupInfo()\n",
    "    {\n",
    "        foreach (var std in grp)\n",
    "        {\n",
    "            Console.WriteLine(std.GetInfo());\n",
    "        }\n",
    "    }\n",
    "}\n",
    "BachelorStudent a = new BachelorStudent(\"Adam\", 20, 2);\n",
    "a.Specialty = \"PPP\";\n",
    "IHalloween b = new MasterStudent(\"Pete\", 25, 1);\n",
    "PhDStudent c = new PhDStudent(\"Leo\", 25, 1);\n",
    "ResearchPhDStudent d = new ResearchPhDStudent(\"Mien\", 26, 2);\n",
    "\n",
    "b.TakeMask();\n",
    "c.TakeTask(a);"
   ]
  }
 ],
 "metadata": {
  "kernelspec": {
   "display_name": ".NET (C#)",
   "language": "C#",
   "name": ".net-csharp"
  },
  "polyglot_notebook": {
   "kernelInfo": {
    "defaultKernelName": "csharp",
    "items": [
     {
      "aliases": [],
      "languageName": "csharp",
      "name": "csharp"
     }
    ]
   }
  }
 },
 "nbformat": 4,
 "nbformat_minor": 2
}
