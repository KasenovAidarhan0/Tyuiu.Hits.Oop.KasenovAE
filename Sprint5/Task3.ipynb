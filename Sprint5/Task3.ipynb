{
 "cells": [
  {
   "cell_type": "markdown",
   "metadata": {},
   "source": [
    "<h1 style=\"color:DodgerBlue\">Индивидальный проект</h1>"
   ]
  },
  {
   "cell_type": "markdown",
   "metadata": {},
   "source": [
    "<h2 style=\"color:DodgerBlue\">Название проекта:</h2>\n",
    "\n",
    "----\n",
    "\n",
    "### Вариант задания № 2\n"
   ]
  },
  {
   "cell_type": "markdown",
   "metadata": {},
   "source": [
    "<h2 style=\"color:DodgerBlue\">Описание проекта:</h2>\n",
    "\n",
    "----\n",
    "\n",
    "<h3>Описание задачи:</h3>\n",
    "Создать базовый класс Student в C#, который будет представлять информацию о\n",
    "студентах. На основе этого класса разработать 2-3 производных класса,\n",
    "демонстрирующих принципы наследования и полиморфизма. В каждом из классов\n",
    "должны быть реализованы новые атрибуты и методы, а также переопределены\n",
    "некоторые методы базового класса для демонстрации полиморфизма.\n",
    "<h3>Требования к базовому классу Student:</h3>\n",
    "<ul>\n",
    "<li> Атрибуты: Имя (Name), Возраст (Age), Курс (Course).</li>\n",
    "<li> Методы:\n",
    "<ul>\n",
    "<li> GetInfo(): метод для получения информации о студенте в виде строки.</li>\n",
    "<li> Study(): метод для вывода сообщения о том, что студент учится.</li>\n",
    "<li> TakeExam(): метод для вывода сообщения о сдаче экзамена.</li>\n",
    "</ul>\n",
    "</li>\n",
    "</ul>\n",
    "<ol>\n",
    "<li> Студент бакалавриата (BachelorStudent): Должен содержать дополнительные\n",
    "атрибуты, такие как Специальность (Specialty). Метод Study() должен быть\n",
    "переопределен для добавления информации о специальности при изучении\n",
    "предмета. </li>\n",
    "<li> Студент магистратуры (MasterStudent): Должен содержать дополнительные\n",
    "атрибуты, такие как Научный руководитель (ScientificAdvisor).\n",
    "Метод TakeExam() должен быть переопределен для добавления\n",
    "информации о научном руководителе при сдаче экзамена. </li>\n",
    "<li>А спирант (PhDStudent) (если требуется третий класс): Должен содержать\n",
    "дополнительные атрибуты, такие как Тема диссертации (DissertationTopic).\n",
    "Метод Study() должен быть переопределен для добавления информации о\n",
    "теме диссертации при изучении предмета. </li>\n",
    "</ol>\n",
    "\n",
    "#### Дополнительное задание\n",
    "Добавьте к сущестующим классам (базовыму и производным 3-4 атрибута и метода) исользуйтие в проекте коллекции, делегаты, события.\n"
   ]
  },
  {
   "cell_type": "markdown",
   "metadata": {},
   "source": [
    "<h2 style=\"color:DodgerBlue\">Реализация:</h2>\n",
    "\n",
    "----"
   ]
  },
  {
   "cell_type": "code",
   "execution_count": null,
   "metadata": {
    "dotnet_interactive": {
     "language": "csharp"
    },
    "polyglot_notebook": {
     "kernelName": "csharp"
    }
   },
   "outputs": [
    {
     "name": "stdout",
     "output_type": "stream",
     "text": [
      "Abraham takes the exam\n",
      "George takes the exam\n",
      "Thomas, takes the exam, his/her scientific advisor is John\n",
      "Abraham\t20\t34841807\n",
      "George\t19\t24377471\n",
      "Thomas\t24\t23244377\n"
     ]
    }
   ],
   "source": [
    "using System.Collections.Generic;\n",
    "public delegate void StudentController(Student student);\n",
    "public class Student\n",
    "{\n",
    "    public string Name;\n",
    "    public int Age;\n",
    "    public int Course;\n",
    "    public event StudentController DBController;\n",
    "\n",
    "    public string GetInfo() {\n",
    "        return $\"Name:{Name}\\tAge:{Age}\\tCourse:{Course}\";\n",
    "    }\n",
    "    virtual public void Study() {\n",
    "        Console.WriteLine($\"{Name} is studying\");\n",
    "    }\n",
    "    protected void AddToDB() {\n",
    "        DBController?.Invoke(this);\n",
    "    }\n",
    "    virtual public void TakeExam() {\n",
    "        Console.WriteLine($\"{Name} takes the exam\");\n",
    "        AddToDB();\n",
    "    }\n",
    "    public Student(string name, int age, int course, StudentController method) {\n",
    "        Name = name;\n",
    "        Age = age;\n",
    "        Course = course;\n",
    "        DBController += method;\n",
    "    }\n",
    "}\n",
    "public class BachelorStudent : Student\n",
    "{\n",
    "    public string Specialty;\n",
    "    override public void Study() {\n",
    "        Console.WriteLine($\"{Name}, stundent of {Specialty}, is studying\");\n",
    "    }\n",
    "    public BachelorStudent(string name, int age, int course, string spec, StudentController method) : base(name, age, course, method) {\n",
    "        Specialty = spec;\n",
    "    }\n",
    "}\n",
    "public class MasterStudent : Student\n",
    "{\n",
    "    public PhDStudent ScientificAdvisor;\n",
    "    override public void TakeExam() {\n",
    "        Console.WriteLine($\"{Name}, takes the exam, his/her scientific advisor is {ScientificAdvisor.Name}\");\n",
    "        AddToDB();\n",
    "    }\n",
    "    public MasterStudent(string name, int age, int course, PhDStudent SA, StudentController method) : base(name, age, course, method) {\n",
    "        ScientificAdvisor = SA;\n",
    "    }\n",
    "}\n",
    "public class PhDStudent : Student\n",
    "{\n",
    "    public string DissertationTopic;\n",
    "    override public void Study() {\n",
    "        Console.WriteLine($\"{Name} is studying, his/her dissertation topic is {DissertationTopic}\");\n",
    "    }\n",
    "    public PhDStudent(string name, int age, int course, string DTopic, StudentController method) : base(name, age, course, method) {\n",
    "        DissertationTopic = DTopic;\n",
    "    }\n",
    "}\n",
    "// Создаем базу данных студентов здавших экзамен\n",
    "HashSet<Student> dataBase = new HashSet<Student>();\n",
    "void Add(Student student) => dataBase.Add(student);\n",
    "var s1 = new BachelorStudent(\"Abraham\", 20, 2, \"Social Sciences & History\", Add);\n",
    "var s2 = new BachelorStudent(\"George\", 19, 1, \"Biology\", Add);\n",
    "var s3 = new MasterStudent(\"Thomas\", 24, 1, new PhDStudent(\"John\", 27, 1, \"DNA Research\", Add), Add);\n",
    "var s4 = new PhDStudent(\"William\", 24, 2, \"Clinical psychology in prisons\", Add);\n",
    "s1.TakeExam();\n",
    "s2.TakeExam();\n",
    "s3.TakeExam();\n",
    "// s4.TakeExam();\n",
    "foreach(var i in dataBase) {\n",
    "    Console.WriteLine($\"{i.Name}\\t{i.Age}\\t{i.GetHashCode()}\");\n",
    "}"
   ]
  }
 ],
 "metadata": {
  "kernelspec": {
   "display_name": ".NET (C#)",
   "language": "C#",
   "name": ".net-csharp"
  },
  "polyglot_notebook": {
   "kernelInfo": {
    "defaultKernelName": "csharp",
    "items": [
     {
      "aliases": [],
      "languageName": "csharp",
      "name": "csharp"
     }
    ]
   }
  }
 },
 "nbformat": 4,
 "nbformat_minor": 2
}
